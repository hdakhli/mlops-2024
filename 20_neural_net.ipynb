{
 "cells": [
  {
   "cell_type": "markdown",
   "source": [
    "<a href=\"https://colab.research.google.com/github/hdakhli/mlops-2024/blob/main/20_neural_net.ipynb\" target=\"_parent\"><img src=\"https://colab.research.google.com/assets/colab-badge.svg\" alt=\"Open In Colab\"/></a>"
   ],
   "metadata": {
    "collapsed": false
   },
   "id": "99fcdf0a73f3d615"
  },
  {
   "cell_type": "markdown",
   "source": [
    "## Classifier des images\n",
    "\n",
    "Suivre les étapes indiquées dans le notebook pour classifier des images de chiffres manuscrits en utilisant un réseau de neurones.\n",
    "\n",
    "<br>\n",
    "\n",
    "<img src=\"datasets/MNIST-dataset.png\">"
   ],
   "metadata": {
    "collapsed": false
   },
   "id": "9879c03ec87473a1"
  },
  {
   "cell_type": "code",
   "execution_count": null,
   "outputs": [],
   "source": [
    "!pip install numpy tensorflow matplotlib opencv-python-headless"
   ],
   "metadata": {
    "collapsed": false
   },
   "id": "6db20d9ed387ff9d"
  },
  {
   "cell_type": "markdown",
   "source": [
    "### Importer les librairies\n",
    "\n",
    "- Tensorflow is an end-to-end open source platform for machine learning. \n",
    "- Keras is an open-source library that provides a Python interface for artificial neural networks.\n",
    "- numpy is the main package for scientific computing with Python.\n",
    "- matplotlib is a library to plot graphs in Python."
   ],
   "metadata": {
    "collapsed": false
   },
   "id": "1884d4ea9742c805"
  },
  {
   "cell_type": "code",
   "execution_count": null,
   "outputs": [],
   "source": [
    "import numpy as np\n",
    "import tensorflow as tf\n",
    "import matplotlib.pyplot as plt\n",
    "from keras.models import Sequential\n",
    "from keras.layers import Dense, Activation\n",
    "np.random.seed(42)\n",
    "from keras.optimizers import Adam, SGD      # help us to transform our data later\n",
    "from tensorflow.python.keras.utils import np_utils"
   ],
   "metadata": {
    "collapsed": false
   },
   "id": "initial_id"
  },
  {
   "cell_type": "markdown",
   "source": [
    "### Load the MNIST dataset"
   ],
   "metadata": {
    "collapsed": false
   },
   "id": "462cf843071f3e30"
  },
  {
   "cell_type": "code",
   "execution_count": null,
   "outputs": [],
   "source": [
    "(X_train, y_train), (X_test, y_test) = tf.keras.datasets.mnist.load_data()"
   ],
   "metadata": {
    "collapsed": false
   },
   "id": "4b75fb44896a6d52"
  },
  {
   "cell_type": "markdown",
   "source": [
    "### Checkout input dataset"
   ],
   "metadata": {
    "collapsed": false
   },
   "id": "b74522659b698c08"
  },
  {
   "cell_type": "code",
   "execution_count": null,
   "outputs": [],
   "source": [
    "print('Total no of Images: ',X_train.shape[0])\n",
    "print('Size of Image:', X_train.shape[1:])\n",
    "print('Total no of labels:', y_train.shape)"
   ],
   "metadata": {
    "collapsed": false
   },
   "id": "2911f91cd12af29c"
  },
  {
   "cell_type": "markdown",
   "source": [
    "### Prepare input data\n",
    "For a multi-layer perceptron model we must reduce the images down into a vector of pixels. In this case the 28×28 sized images will be 784 pixel input values.\n",
    "\n",
    "We can do this transform easily using the reshape() function on the NumPy array. We can also reduce our memory requirements by forcing the precision of the pixel values to be 32 bit."
   ],
   "metadata": {
    "collapsed": false
   },
   "id": "c9e46d6a32fa3ab6"
  },
  {
   "cell_type": "code",
   "execution_count": null,
   "outputs": [],
   "source": [
    "X_train = X_train.reshape((X_train.shape[0],-1))\n",
    "X_test = X_test.reshape((X_test.shape[0], -1))\n",
    "\n",
    "X_train = X_train.astype('float32')\n",
    "X_test = X_test.astype('float32')\n",
    "\n",
    "print(X_train.shape, X_test.shape)"
   ],
   "metadata": {
    "collapsed": false
   },
   "id": "7d07b3f47db6185d"
  },
  {
   "cell_type": "markdown",
   "source": [
    "### Normalize Input data\n",
    "The pixel values are gray scale between 0 and 255. It is almost always a good idea to perform some scaling of input values when using neural network models. Because the scale is well known and well behaved, we can very quickly normalize the pixel values to the range 0 and 1 by dividing each value by the maximum of 255.\n",
    "<br>\n",
    "<img src=\"datasets/three_pixels.png\" width=\"800\">"
   ],
   "metadata": {
    "collapsed": false
   },
   "id": "b19279233ad0f953"
  },
  {
   "cell_type": "code",
   "execution_count": null,
   "outputs": [],
   "source": [
    "X_train = X_train/255\n",
    "X_test = X_test/255\n",
    "\n",
    "# print(X_train[0])\n",
    "X_train.shape"
   ],
   "metadata": {
    "collapsed": false
   },
   "id": "b4838a4d5ec7ba5b"
  },
  {
   "cell_type": "markdown",
   "source": [
    "## One-hot Encoding\n",
    "\n",
    "Finally, the output variable is an integer from 0 to 9. This is a multi-class classification problem. As such, it is good practice to use a one hot encoding of the class values, transforming the vector of class integers into a binary matrix.\n",
    "\n",
    "### What is Categorial Data?\n",
    "\n",
    "Categorical data are variables that contain label values rather than numeric values. The number of possible values is often limited to a fixed set. \n",
    "\n",
    "Some examples include:\n",
    "\n",
    "- A “pet” variable with the values: “dog” and “cat“.\n",
    "- A “color” variable with the values: “red“, “green” and “blue“.\n",
    "- A “place” variable with the values: “first”, “second” and “third“.\n",
    "- A \"Number\" variable with values: \"0\", \"1\", \"2\", ... , \"9\".\n",
    "\n",
    "### Convert Categorical Data to Numerical Data.\n",
    "\n",
    "Here, the integer encoded variable is removed and a new binary variable is added for each unique integer value.\n",
    "\n",
    "\n",
    "In the “color” variable example, there are 3 categories and therefore 3 binary variables are needed. A “1” value is placed in the binary variable for the color and “0” values for the other colors.\n",
    "\n",
    "    - red,\t\tgreen,\t\tblue\n",
    "    - 1,\t\t0,\t\t0\n",
    "    - 0,\t\t1,\t\t0\n",
    "    - 0,\t\t0,\t\t1\n",
    "\n",
    "\n",
    "We can easily do this using the built-in **np_utils.to_categorical()** helper function in Keras."
   ],
   "metadata": {
    "collapsed": false
   },
   "id": "8cc26a2c16493dc0"
  },
  {
   "cell_type": "code",
   "execution_count": null,
   "outputs": [],
   "source": [
    "# One-hot encoding\n",
    "\n",
    "y_train = np_utils.to_categorical(y_train)\n",
    "y_test = np_utils.to_categorical(y_test)\n",
    "\n",
    "print(y_train.shape)"
   ],
   "metadata": {
    "collapsed": false
   },
   "id": "709f7af8370fb7e0"
  },
  {
   "cell_type": "code",
   "execution_count": null,
   "outputs": [],
   "source": [
    "num_classes = y_test.shape[1]\n",
    "num_pixels = 784"
   ],
   "metadata": {
    "collapsed": false
   },
   "id": "150b1dba7b198a0a"
  },
  {
   "cell_type": "markdown",
   "source": [
    "### Define Model\n",
    "\n",
    "Input size of our model - 784 (28 x 28). There are 2 hidden layers with 256 and 64 neurons in each.\n",
    "In hidden layers, we will use relu activation function. And in final output layer, we'll use softmax activation function.\n",
    "\n",
    "#### Relu Function:\n",
    "The rectified linear activation function or ReLU for short is a piecewise linear function that will output the input directly if it is positive, otherwise, it will output zero.\n",
    "\n",
    "<br>\n",
    "\n",
    "#### Softmax Function:\n",
    "The Softmax function that turns numbers aka logits into probabilities that sum to one. Softmax function outputs a vector that represents the probability distributions of a list of potential outcomes.\n",
    "\n",
    "<br>\n",
    "\n",
    "<img src=\"datasets/activation.png\" width=\"1000\">\n",
    "\n",
    "<br>\n",
    "\n",
    "So our final model look like this,\n",
    "\n",
    "<br>\n",
    "\n",
    "<img src=\"datasets/nn_archi.png\" width=\"1000\">\n",
    "\n"
   ],
   "metadata": {
    "collapsed": false
   },
   "id": "56883a8aedf8ee51"
  },
  {
   "cell_type": "code",
   "execution_count": null,
   "outputs": [],
   "source": [
    "# define baseline model\n",
    "model = Sequential()\n",
    "model.add(Dense(256, input_dim=num_pixels, activation=\"relu\"))\n",
    "model.add(Dense(64, activation=\"relu\"))\n",
    "model.add(Dense(num_classes, activation='softmax'))"
   ],
   "metadata": {
    "collapsed": false
   },
   "id": "aa4b54366590691"
  },
  {
   "cell_type": "code",
   "execution_count": null,
   "outputs": [],
   "source": [
    "# build the model\n",
    "model.summary()"
   ],
   "metadata": {
    "collapsed": false
   },
   "id": "3d2b33f19d76494a"
  },
  {
   "cell_type": "markdown",
   "source": [
    "### Compile Model\n",
    "\n",
    "#### Loss Function: Categorical Crossentropy\n",
    "The categorical crossentropy is well suited to classification tasks, since one example can be considered to belong to a specific category with probability 1, and to other categories with probability 0.\n",
    "\n",
    "<br/>\n",
    "\n",
    "#### Optimizer: SGD (Stochastic Gradient Descent)\n",
    "Stochastic gradient descent is an iterative method for optimizing an objective function with suitable smoothness properties"
   ],
   "metadata": {
    "collapsed": false
   },
   "id": "765b5b872921251c"
  },
  {
   "cell_type": "code",
   "execution_count": null,
   "outputs": [],
   "source": [
    "opt = SGD(learning_rate=0.001)\n",
    "model.compile(loss='categorical_crossentropy', optimizer=opt, metrics=['accuracy'])"
   ],
   "metadata": {
    "collapsed": false
   },
   "id": "c9537a504e2599dd"
  },
  {
   "cell_type": "markdown",
   "source": [
    "### Train Model\n",
    "To fit the model, all we have to do is declare the batch size and number of epochs to train for, then pass in our training data."
   ],
   "metadata": {
    "collapsed": false
   },
   "id": "4a4b9888b413a6d4"
  },
  {
   "cell_type": "code",
   "execution_count": null,
   "outputs": [],
   "source": [
    "model.fit(X_train, y_train, epochs=5, batch_size=32, verbose=1)"
   ],
   "metadata": {
    "collapsed": false
   },
   "id": "4a360b3d0dae9c0f"
  },
  {
   "cell_type": "code",
   "execution_count": null,
   "outputs": [],
   "source": [
    "scores = model.evaluate(X_test, y_test, verbose=1)"
   ],
   "metadata": {
    "collapsed": false
   },
   "id": "6fd862073bd6c5e6"
  },
  {
   "cell_type": "code",
   "execution_count": null,
   "outputs": [],
   "source": [
    "import cv2\n",
    "# Faire une prédiction d'une image de test\n",
    "image_1 = cv2.imread(\"1.png\")\n",
    "plt.imshow(image_1)\n",
    "# Tester avec les images présentes dans le dossier \"datasets\""
   ],
   "metadata": {
    "collapsed": false
   },
   "id": "fec572d4a95002a8"
  },
  {
   "cell_type": "code",
   "execution_count": null,
   "outputs": [],
   "source": [
    "image1_grey = cv2.cvtColor(image_1, cv2.COLOR_BGR2GRAY)\n",
    "image1_grey = cv2.bitwise_not(image1_grey)\n",
    "plt.imshow(image1_grey)\n",
    "image1_resized = cv2.resize(image1_grey, (28, 28)) / 255\n",
    "image1_resized.shape"
   ],
   "metadata": {
    "collapsed": false
   },
   "id": "5126f3418072f8c6"
  },
  {
   "cell_type": "code",
   "execution_count": null,
   "outputs": [],
   "source": [
    "plt.imshow(image1_resized)"
   ],
   "metadata": {
    "collapsed": false
   },
   "id": "2839f47c112365a"
  },
  {
   "cell_type": "code",
   "execution_count": null,
   "outputs": [],
   "source": [
    "x = np.expand_dims(image1_resized, axis=0)\n",
    "x = x.reshape((1, -1))\n",
    "x.shape"
   ],
   "metadata": {
    "collapsed": false
   },
   "id": "28a8746ac3254f7e"
  },
  {
   "cell_type": "code",
   "execution_count": null,
   "outputs": [],
   "source": [
    "y_prob = model.predict(x)\n",
    "print(y_prob[0].argmax())"
   ],
   "metadata": {
    "collapsed": false
   },
   "id": "e637a8c2e9c88acf"
  }
 ],
 "metadata": {
  "kernelspec": {
   "display_name": "Python 3",
   "language": "python",
   "name": "python3"
  },
  "language_info": {
   "codemirror_mode": {
    "name": "ipython",
    "version": 2
   },
   "file_extension": ".py",
   "mimetype": "text/x-python",
   "name": "python",
   "nbconvert_exporter": "python",
   "pygments_lexer": "ipython2",
   "version": "2.7.6"
  }
 },
 "nbformat": 4,
 "nbformat_minor": 5
}
