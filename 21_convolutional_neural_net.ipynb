{
 "cells": [
  {
   "cell_type": "markdown",
   "source": [
    "<a href=\"https://colab.research.google.com/github/hdakhli/mlops-2024/blob/main/21_convolutional_neural_net.ipynb\" target=\"_parent\"><img src=\"https://colab.research.google.com/assets/colab-badge.svg\" alt=\"Open In Colab\"/></a>"
   ],
   "metadata": {
    "collapsed": false
   },
   "id": "4666c11c51bdb7b1"
  },
  {
   "cell_type": "markdown",
   "source": [
    "## Classification en utilisant un réseau de neurones convolutif (CNN)"
   ],
   "metadata": {
    "collapsed": false
   },
   "id": "d634eefee7ad54d2"
  },
  {
   "cell_type": "code",
   "execution_count": null,
   "outputs": [],
   "source": [
    "!pip install tensorflow opencv-python-headless matplotlib"
   ],
   "metadata": {
    "collapsed": false
   },
   "id": "5a5438169205e579"
  },
  {
   "cell_type": "code",
   "execution_count": null,
   "outputs": [],
   "source": [
    "from tensorflow.keras.layers import Conv2D\n",
    "from tensorflow.keras.layers import Dense\n",
    "from tensorflow.keras.layers import Flatten\n",
    "from tensorflow.keras.layers import MaxPooling2D\n",
    "from tensorflow.keras.models import Sequential"
   ],
   "metadata": {
    "collapsed": false
   },
   "id": "3028fe202dc1c564"
  },
  {
   "cell_type": "code",
   "execution_count": null,
   "outputs": [],
   "source": [
    "(X_train, y_train), (X_test, y_test) = tf.keras.datasets.mnist.load_data()\n",
    "# X_train = X_train.reshape((X_train.shape[0],-1))\n",
    "# X_test = X_test.reshape((X_test.shape[0], -1))\n",
    "\n",
    "X_train = X_train.astype('float32')\n",
    "X_test = X_test.astype('float32')\n",
    "\n",
    "print(X_train.shape, X_test.shape)"
   ],
   "metadata": {
    "collapsed": false
   },
   "id": "ccf7d3c4c34c08db"
  },
  {
   "cell_type": "code",
   "execution_count": null,
   "outputs": [],
   "source": [
    "from tensorflow.python.keras.utils import np_utils\n",
    "\n",
    "# One-hot encoding\n",
    "\n",
    "y_train = np_utils.to_categorical(y_train)\n",
    "y_test = np_utils.to_categorical(y_test)\n",
    "\n",
    "print(y_train.shape)"
   ],
   "metadata": {
    "collapsed": false
   },
   "id": "a32b3b5344457e9b"
  },
  {
   "cell_type": "code",
   "execution_count": null,
   "outputs": [],
   "source": [
    "X_train = X_train/255\n",
    "X_test = X_test/255\n",
    "\n",
    "# print(X_train[0])\n",
    "X_train.shape"
   ],
   "metadata": {
    "collapsed": false
   },
   "id": "41abb3e51a5a191c"
  },
  {
   "cell_type": "code",
   "execution_count": null,
   "id": "initial_id",
   "metadata": {
    "collapsed": true
   },
   "outputs": [],
   "source": [
    "# Exemple d'architecture d'un réseau CNN:\n",
    "# Nous initialisons un modèle vide, nous commençons ensuite à le construire couche par couche. Ici, nous avons une couche de convolution avec plusieurs paramètres :\n",
    "# \n",
    "# 32 filtres\n",
    "# un motif de taille (3, 3), aussi appelé kernel 3×3 pixels\n",
    "# un pas de (1,1), aussi appelé strides\n",
    "# une fonction d’activation.\n",
    "# taille des données d'entrée (28, 28, 1) une image en 3 dimensions (hauteur, largeur, couleur), un 3D-tensor.\n",
    "# Cette couche passe sur chaque pixel de l’image (strides = (1,1)) pour en extraire des motifs de taille 3×3 pixels (kernel = (3,3)). La couche exécute cette action 32 fois (filtres = 32) et produit 32 feature-maps chacune représente des caractéristiques différentes de l’image.\n",
    "\n",
    "model = Sequential()\n",
    "model.add(Conv2D(32, (3, 3), activation='relu',kernel_initializer='he_uniform',input_shape=(28, 28, 1)))\n",
    "\n",
    "\n",
    "# La couche suivante est une couche de MaxPooling. Il existe deux principaux types de couches de regroupement :\n",
    "# \n",
    "# Max Pooling : lorsque le filtre se déplace sur l’entrée, il sélectionne le pixel avec la valeur maximale à envoyer à la matrice de sortie. Cette approche tend à être utilisée plus souvent que la mise en commun moyenne.\n",
    "# Average Pooling : Lorsque le filtre se déplace sur l’entrée, il calcule la valeur moyenne dans le champ réceptif à envoyer à la matrice de sortie.\n",
    "# Nous allons utiliser une couche MaxPooling a un kernel de taille (2, 2) dans notre cas.\n",
    "\n",
    "model.add(MaxPooling2D((2, 2)))\n",
    "\n",
    "\n",
    "# Puisque nous avons commencé avec une image en 3 dimensions (hauteur, largeur, couleur), un 3D-tensor, et nous finissons avec un label à une dimension, un 1D-tensor. Une couche de convolution retourne un 3D-tensor, un tenseur à 3 dimensions, ce ne peut donc pas être la couche finale. Nous utilisons alors une couche appelée Flatten qui permet d’aplatir le tenseur, de réduire sa dimension. Elle prend en entrée un 3D-tensor et retourne un 1D-tensor.\n",
    "model.add(Flatten())\n",
    "\n",
    "\n",
    "# Dans notre cas, nous ajoutons deux couches entièrement connectées, la couche finale produit en sortie un vecteur de taille 10. 10 fait référence au nombre de classes de digits (de 0 à 9).\n",
    "model.add(Dense(100, activation='relu', kernel_initializer='he_uniform'))\n",
    "model.add(Dense(10, activation='softmax'))"
   ]
  },
  {
   "cell_type": "code",
   "execution_count": null,
   "outputs": [],
   "source": [
    "from keras.src.optimizers import SGD, Adam\n",
    "\n",
    "opt = SGD(learning_rate=0.001)\n",
    "model.compile(loss='categorical_crossentropy', optimizer=opt, metrics=['accuracy'])"
   ],
   "metadata": {
    "collapsed": false
   },
   "id": "454ffd70c5364b99"
  },
  {
   "cell_type": "code",
   "execution_count": null,
   "outputs": [],
   "source": [
    "model.summary()"
   ],
   "metadata": {
    "collapsed": false
   },
   "id": "922e6be99cf4a86c"
  },
  {
   "cell_type": "code",
   "execution_count": null,
   "outputs": [],
   "source": [
    "model.fit(X_train, y_train, epochs=5, batch_size=32, verbose=1)\n",
    "scores = model.evaluate(X_test, y_test, verbose=1)"
   ],
   "metadata": {
    "collapsed": false
   },
   "id": "fbc669e74b7a52a4"
  },
  {
   "cell_type": "code",
   "execution_count": null,
   "outputs": [],
   "source": [
    "import numpy as np\n",
    "import cv2\n",
    "import matplotlib.pyplot as plt\n",
    "# Faire une prédiction d'une image\n",
    "image_1 = cv2.imread(\"datasets/1.png\")\n",
    "image1_grey = cv2.cvtColor(image_1, cv2.COLOR_BGR2GRAY)\n",
    "plt.imshow(image1_grey)\n",
    "image1_grey = cv2.bitwise_not(image1_grey)\n",
    "plt.imshow(image1_grey)\n",
    "image1_resized = cv2.resize(image1_grey, (28, 28)) / 255\n",
    "x = np.expand_dims(image1_resized, axis=0)\n",
    "print(x.shape)\n",
    "\n",
    "y_prob = model.predict(x)\n",
    "print(\"prediction:\", y_prob[0].argmax())"
   ],
   "metadata": {
    "collapsed": false
   },
   "id": "c1147f79d24c4beb"
  },
  {
   "cell_type": "code",
   "execution_count": null,
   "outputs": [],
   "source": [],
   "metadata": {
    "collapsed": false
   },
   "id": "70727e87a74d28f9"
  }
 ],
 "metadata": {
  "kernelspec": {
   "display_name": "Python 3",
   "language": "python",
   "name": "python3"
  },
  "language_info": {
   "codemirror_mode": {
    "name": "ipython",
    "version": 2
   },
   "file_extension": ".py",
   "mimetype": "text/x-python",
   "name": "python",
   "nbconvert_exporter": "python",
   "pygments_lexer": "ipython2",
   "version": "2.7.6"
  }
 },
 "nbformat": 4,
 "nbformat_minor": 5
}
